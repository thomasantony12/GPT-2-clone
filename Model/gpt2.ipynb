{
 "cells": [
  {
   "cell_type": "code",
   "execution_count": 1,
   "metadata": {},
   "outputs": [],
   "source": [
    "import tensorflow as tf"
   ]
  },
  {
   "cell_type": "code",
   "execution_count": 3,
   "metadata": {},
   "outputs": [],
   "source": [
    "with open('../Data set/input.txt', 'r', encoding='utf-8') as f:\n",
    "    data = f.read()"
   ]
  },
  {
   "cell_type": "code",
   "execution_count": 4,
   "metadata": {},
   "outputs": [
    {
     "name": "stdout",
     "output_type": "stream",
     "text": [
      "Length of the text file: 1115394\n"
     ]
    }
   ],
   "source": [
    "#print(data[:100])\n",
    "print(f'Length of the text file: {len(data)}')"
   ]
  },
  {
   "cell_type": "code",
   "execution_count": 5,
   "metadata": {},
   "outputs": [
    {
     "name": "stdout",
     "output_type": "stream",
     "text": [
      "\n",
      " !$&',-.3:;?ABCDEFGHIJKLMNOPQRSTUVWXYZabcdefghijklmnopqrstuvwxyz\n",
      "Number of unique characters: 65\n"
     ]
    }
   ],
   "source": [
    "chars = sorted(list(set(data)))\n",
    "vocab_size = len(chars)\n",
    "print(''.join(chars))\n",
    "print(f'Number of unique characters: {vocab_size}')"
   ]
  },
  {
   "cell_type": "code",
   "execution_count": 6,
   "metadata": {},
   "outputs": [
    {
     "name": "stdout",
     "output_type": "stream",
     "text": [
      "Encoded: [20, 43, 50, 50, 53]\n",
      "Decoded: Hello\n"
     ]
    }
   ],
   "source": [
    "dic_for_encoding = {c: i for i, c in enumerate(chars)}\n",
    "dic_for_decoding = {i: c for i, c in enumerate(chars)}\n",
    "\n",
    "\n",
    "encoding = lambda s: [dic_for_encoding[c] for c in s]\n",
    "decoding = lambda s: ''.join([dic_for_decoding[i] for i in s])\n",
    "\n",
    "\n",
    "print(f'Encoded: {encoding(\"Hello\")}')\n",
    "print(f'Decoded: {decoding([20, 43, 50, 50, 53])}')"
   ]
  },
  {
   "cell_type": "code",
   "execution_count": 24,
   "metadata": {},
   "outputs": [
    {
     "name": "stdout",
     "output_type": "stream",
     "text": [
      "Shape : (1115394,) \n",
      "Dtype : <dtype: 'int32'> \n",
      "Array : [18 47 56 ... 45  8  0]\n",
      "\n",
      "First 100 letter representation : [18 47 56 57 58  1 15 47 58 47 64 43 52 10  0 14 43 44 53 56 43  1 61 43\n",
      "  1 54 56 53 41 43 43 42  1 39 52 63  1 44 59 56 58 46 43 56  6  1 46 43\n",
      " 39 56  1 51 43  1 57 54 43 39 49  8  0  0 13 50 50 10  0 31 54 43 39 49\n",
      "  6  1 57 54 43 39 49  8  0  0 18 47 56 57 58  1 15 47 58 47 64 43 52 10\n",
      "  0 37 53 59]\n"
     ]
    }
   ],
   "source": [
    "int_data = tf.constant(encoding(data))\n",
    "print(f'Shape : {int_data.shape} \\nDtype : {int_data.dtype} \\nArray : {int_data.numpy()}\\n')\n",
    "print(f'First 100 letter representation : {int_data[:100]}')"
   ]
  },
  {
   "cell_type": "code",
   "execution_count": 29,
   "metadata": {},
   "outputs": [
    {
     "data": {
      "text/plain": [
       "<tf.Tensor: shape=(1003854,), dtype=int32, numpy=array([18, 47, 56, ..., 43, 56, 43])>"
      ]
     },
     "execution_count": 29,
     "metadata": {},
     "output_type": "execute_result"
    }
   ],
   "source": [
    "n = int(len(int_data) * 0.9)\n",
    "train_data = int_data[:n]\n",
    "val_data = int_data[n:]\n",
    "\n",
    "train_data\n"
   ]
  },
  {
   "cell_type": "code",
   "execution_count": 30,
   "metadata": {},
   "outputs": [
    {
     "data": {
      "text/plain": [
       "<tf.Tensor: shape=(9,), dtype=int32, numpy=array([18, 47, 56, 57, 58,  1, 15, 47, 58])>"
      ]
     },
     "execution_count": 30,
     "metadata": {},
     "output_type": "execute_result"
    }
   ],
   "source": [
    "block_size = 8\n",
    "train_data[:block_size+1]"
   ]
  },
  {
   "cell_type": "code",
   "execution_count": 35,
   "metadata": {},
   "outputs": [
    {
     "name": "stdout",
     "output_type": "stream",
     "text": [
      "When input is [18] then target is 47\n",
      "When input is [18 47] then target is 56\n",
      "When input is [18 47 56] then target is 57\n",
      "When input is [18 47 56 57] then target is 58\n",
      "When input is [18 47 56 57 58] then target is 1\n",
      "When input is [18 47 56 57 58  1] then target is 15\n",
      "When input is [18 47 56 57 58  1 15] then target is 47\n",
      "When input is [18 47 56 57 58  1 15 47] then target is 58\n"
     ]
    }
   ],
   "source": [
    "x = train_data[:block_size]\n",
    "y = train_data[1:block_size+1]\n",
    "\n",
    "for i in range(block_size):\n",
    "    content = x[:i+1]\n",
    "    target = y[i]\n",
    "    print(f'When input is {content} then target is {target}')"
   ]
  },
  {
   "cell_type": "code",
   "execution_count": null,
   "metadata": {},
   "outputs": [],
   "source": []
  }
 ],
 "metadata": {
  "kernelspec": {
   "display_name": "gpt2",
   "language": "python",
   "name": "gpt2"
  },
  "language_info": {
   "codemirror_mode": {
    "name": "ipython",
    "version": 3
   },
   "file_extension": ".py",
   "mimetype": "text/x-python",
   "name": "python",
   "nbconvert_exporter": "python",
   "pygments_lexer": "ipython3",
   "version": "3.9.18"
  }
 },
 "nbformat": 4,
 "nbformat_minor": 2
}
